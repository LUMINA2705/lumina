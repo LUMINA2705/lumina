{
 "cells": [
  {
   "cell_type": "markdown",
   "id": "b331ff64",
   "metadata": {},
   "source": [
    "1. In the below elements which of them are values or an expression? eg:- values can be integer or string and expressions will be mathematical operators.\n",
    "* \t\t-\tExpression\n",
    "'hello'\t\t-\tValues\n",
    "-87.8\t\t-\tValues\n",
    "- \t\t-\tExpression\n",
    "/ \t\t-\tExpression\n",
    "    -\tExpression\n",
    "6  \t\t-\tValues\n",
    "2. What is the difference between string and variable?\n",
    "Answer: Variables are used to store the data\n",
    "\tString are the data to be filled in variable\n",
    "\n",
    "3. Describe three different data types.\n",
    "Answer:Integer : it take positive and negative values along with zero\n",
    "Float: it will take decimal values\n",
    "Boolean: it will take 0 as False and 1 as True\n",
    "\n",
    "4. What is an expression made up of? What do all expressions do?\n",
    "Answer: addition: + to add the values or strings\n",
    "Subtraction : - to  subtract the values\n",
    "Multiplication: * to multiply the values\n",
    "Division: / to divide the values\n",
    " \n",
    "\n",
    "5. This assignment statements, like spam = 10. What is the difference between an expression and a statement?\n",
    "Answer:expression is = and  the example of spam=10 is an statement \n",
    "\n",
    "6. After running the following code, what does the variable bacon contain?\n",
    "bacon = 22\n",
    "bacon + 1\n",
    "Answer: it contains 23 increment of 1\n",
    "\n",
    "7. What should the values of the following two terms be?\n",
    "'spam' + 'spamspam'\n",
    "'spam' * 3\n",
    "\n",
    "Answer:’spamspamspam’\n",
    "’spamspamspam’\n",
    " \n",
    "Both are same since expressed in 2 ways \n",
    "\n",
    "8. Why is eggs a valid variable name while 100 is invalid?\n",
    "Answer:variable name should not starts with numeric so its invalid\n",
    "\n",
    "9. What three functions can be used to get the integer, floating-point number, or string version of a value?\n",
    "Answer:\tint,float,str\n",
    "\n",
    "10. Why does this expression cause an error? How can you fix it?\n",
    "'I have eaten ' + 99 + ' burritos.'\n",
    "Answer:99 is an integer we have to convert this into string using ‘’\n",
    "'I have eaten ' + '99' + ' burritos.'\n",
    " \n"
   ]
  }
 ],
 "metadata": {
  "kernelspec": {
   "display_name": "Python 3 (ipykernel)",
   "language": "python",
   "name": "python3"
  },
  "language_info": {
   "codemirror_mode": {
    "name": "ipython",
    "version": 3
   },
   "file_extension": ".py",
   "mimetype": "text/x-python",
   "name": "python",
   "nbconvert_exporter": "python",
   "pygments_lexer": "ipython3",
   "version": "3.9.12"
  }
 },
 "nbformat": 4,
 "nbformat_minor": 5
}

{
 "cells": [
  {
   "cell_type": "markdown",
   "id": "1773f381",
   "metadata": {},
   "source": [
    "# Python programming assignment **1**\n"
   ]
  },
  {
   "cell_type": "markdown",
   "id": "e7668eb9",
   "metadata": {},
   "source": [
    "##1. Write a Python program to print \"Hello Python\"?"
   ]
  },
  {
   "cell_type": "code",
   "execution_count": 1,
   "id": "335652c2",
   "metadata": {},
   "outputs": [
    {
     "name": "stdout",
     "output_type": "stream",
     "text": [
      "Hello Python\n"
     ]
    }
   ],
   "source": [
    "\n",
    "print(\"Hello Python\")"
   ]
  },
  {
   "cell_type": "raw",
   "id": "966cc4a9",
   "metadata": {},
   "source": [
    "2.Write a Python program to do arithmetical operations addition and division.?"
   ]
  },
  {
   "cell_type": "code",
   "execution_count": 2,
   "id": "cba3e79f",
   "metadata": {},
   "outputs": [
    {
     "name": "stdout",
     "output_type": "stream",
     "text": [
      "Sum of two number is: 9\n",
      "division of two number is: 2.0\n"
     ]
    }
   ],
   "source": [
    "\n",
    "a=6\n",
    "b=3\n",
    "\n",
    "c=a+b\n",
    "print(\"Sum of two number is:\",c)\n",
    "\n",
    "d=a/b\n",
    "print(\"division of two number is:\",d)"
   ]
  },
  {
   "cell_type": "markdown",
   "id": "cc02ac40",
   "metadata": {},
   "source": [
    "##3.Write a Python program to find the area of a triangle?"
   ]
  },
  {
   "cell_type": "code",
   "execution_count": 3,
   "id": "9c393b63",
   "metadata": {},
   "outputs": [
    {
     "name": "stdout",
     "output_type": "stream",
     "text": [
      "Area of triangle: 6.0\n"
     ]
    }
   ],
   "source": [
    "\n",
    "length=4\n",
    "breadth=3\n",
    "\n",
    "area= .5*length*breadth\n",
    "print(\"Area of triangle:\",area)"
   ]
  },
  {
   "cell_type": "markdown",
   "id": "66b352e6",
   "metadata": {},
   "source": [
    "##4.Write a Python program to swap two variables?"
   ]
  },
  {
   "cell_type": "code",
   "execution_count": 4,
   "id": "5b22dac9",
   "metadata": {},
   "outputs": [
    {
     "name": "stdout",
     "output_type": "stream",
     "text": [
      "The value of a after swapping are : 3\n",
      "The value of b after swapping are : 2\n"
     ]
    }
   ],
   "source": [
    "\n",
    "a=2\n",
    "b=3\n",
    "\n",
    "temp=a\n",
    "a=b\n",
    "b=temp\n",
    "\n",
    "print(\"The value of a after swapping are :\",a)\n",
    "print(\"The value of b after swapping are :\",b)"
   ]
  },
  {
   "cell_type": "markdown",
   "id": "118ce41a",
   "metadata": {},
   "source": [
    "##5.Write a Python program to generate a random number?"
   ]
  },
  {
   "cell_type": "code",
   "execution_count": 5,
   "id": "ba9bea19",
   "metadata": {},
   "outputs": [
    {
     "data": {
      "text/plain": [
       "2"
      ]
     },
     "execution_count": 5,
     "metadata": {},
     "output_type": "execute_result"
    }
   ],
   "source": [
    "\n",
    "import random\n",
    "\n",
    "random.randint(0,9)"
   ]
  },
  {
   "cell_type": "code",
   "execution_count": null,
   "id": "2e3b5995",
   "metadata": {},
   "outputs": [],
   "source": []
  }
 ],
 "metadata": {
  "kernelspec": {
   "display_name": "Python 3 (ipykernel)",
   "language": "python",
   "name": "python3"
  },
  "language_info": {
   "codemirror_mode": {
    "name": "ipython",
    "version": 3
   },
   "file_extension": ".py",
   "mimetype": "text/x-python",
   "name": "python",
   "nbconvert_exporter": "python",
   "pygments_lexer": "ipython3",
   "version": "3.9.12"
  }
 },
 "nbformat": 4,
 "nbformat_minor": 5
}

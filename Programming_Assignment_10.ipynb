{
 "cells": [
  {
   "cell_type": "markdown",
   "metadata": {},
   "source": []
  },
  {
   "cell_type": "markdown",
   "metadata": {},
   "source": [
    "Write a Python program to find sum of elements in list?\n",
    "Write a Python program to  Multiply all numbers in the list?\n",
    "Write a Python program to find smallest number in a list?\n",
    "Write a Python program to find largest number in a list?\n",
    "Write a Python program to find second largest number in a list?\n",
    "Write a Python program to find N largest elements from a list?\n",
    "Write a Python program to print even numbers in a list?\n",
    "Write a Python program to print odd numbers in a List?\n",
    "Write a Python program to Remove empty List from List?\n",
    "Write a Python program to Cloning or Copying a list?\n",
    "Write a Python program to Count occurrences of an element in a list?\n"
   ]
  },
  {
   "cell_type": "markdown",
   "metadata": {},
   "source": [
    "1.Write a Python program to find sum of elements in list?"
   ]
  },
  {
   "cell_type": "code",
   "execution_count": 3,
   "metadata": {},
   "outputs": [
    {
     "name": "stdout",
     "output_type": "stream",
     "text": [
      "Sum of all elements in given list:  74\n"
     ]
    }
   ],
   "source": [
    "\n",
    "total = 0\n",
    " \n",
    "# creating a list\n",
    "list1 = [11, 5, 17, 18, 23]\n",
    " \n",
    "# Iterate each element in list\n",
    "# and add them in variable total\n",
    "for i in range(len(list1)):\n",
    "    total = total + list1[i]\n",
    " \n",
    "# printing total value\n",
    "print(\"Sum of all elements in given list: \", total)"
   ]
  },
  {
   "cell_type": "markdown",
   "metadata": {},
   "source": [
    "2.Write a Python program to  Multiply all numbers in the list?"
   ]
  },
  {
   "cell_type": "code",
   "execution_count": 6,
   "metadata": {},
   "outputs": [
    {
     "name": "stdout",
     "output_type": "stream",
     "text": [
      "multiplication of  all elements in given list:  387090\n"
     ]
    }
   ],
   "source": [
    "\n",
    "total = 1\n",
    " \n",
    "# creating a list\n",
    "list1 = [11, 5, 17, 18, 23]\n",
    " \n",
    "# Iterate each element in list\n",
    "# and multiply them in variable total\n",
    "for i in range(len(list1)):\n",
    "    total = total *  list1[i]\n",
    " \n",
    "# printing total value\n",
    "print(\"multiplication of  all elements in given list: \", total)"
   ]
  },
  {
   "cell_type": "markdown",
   "metadata": {},
   "source": [
    "3.Write a Python program to find smallest number in a list?"
   ]
  },
  {
   "cell_type": "code",
   "execution_count": 13,
   "metadata": {},
   "outputs": [
    {
     "name": "stdout",
     "output_type": "stream",
     "text": [
      "The smallest number is  5\n"
     ]
    }
   ],
   "source": [
    "list1 = [11, 5, 17, 18, 23]\n",
    "list1.sort()\n",
    "print(\"The smallest number is \",list1[0] )\n",
    "\n"
   ]
  },
  {
   "cell_type": "markdown",
   "metadata": {},
   "source": [
    "4.Write a Python program to find largest number in a list?"
   ]
  },
  {
   "cell_type": "code",
   "execution_count": 14,
   "metadata": {},
   "outputs": [
    {
     "name": "stdout",
     "output_type": "stream",
     "text": [
      "The largest number is 23\n"
     ]
    }
   ],
   "source": [
    "list1 = [11, 5, 17, 18, 23]\n",
    "list1.sort(reverse=True)\n",
    "print(\"The largest number is\",list1[0])"
   ]
  },
  {
   "cell_type": "markdown",
   "metadata": {},
   "source": [
    "5.Write a Python program to find second largest number in a list?"
   ]
  },
  {
   "cell_type": "code",
   "execution_count": 15,
   "metadata": {},
   "outputs": [
    {
     "name": "stdout",
     "output_type": "stream",
     "text": [
      "The largest number is 18\n"
     ]
    }
   ],
   "source": [
    "list1 = [11, 5, 17, 18, 23]\n",
    "list1.sort(reverse=True)\n",
    "print(\"The largest number is\",list1[1])"
   ]
  },
  {
   "cell_type": "markdown",
   "metadata": {},
   "source": [
    "6.Write a Python program to find N largest elements from a list?"
   ]
  },
  {
   "cell_type": "code",
   "execution_count": 19,
   "metadata": {},
   "outputs": [
    {
     "name": "stdout",
     "output_type": "stream",
     "text": [
      "[4056, 4505, 9847, 10000]\n"
     ]
    }
   ],
   "source": [
    "l=[345,4056,23,576,4505,3,10000,9847]\n",
    "l.sort()\n",
    "print(l[-4:])"
   ]
  },
  {
   "cell_type": "markdown",
   "metadata": {},
   "source": [
    "7.Write a Python program to print even numbers in a list?"
   ]
  },
  {
   "cell_type": "code",
   "execution_count": 32,
   "metadata": {},
   "outputs": [
    {
     "name": "stdout",
     "output_type": "stream",
     "text": [
      "2  4  6  8  10  "
     ]
    }
   ],
   "source": [
    "l=[1,2,3,4,5,6,7,8,9,10]\n",
    "for i in l:\n",
    "    if i%2==0:\n",
    "\n",
    "    \n",
    "        print(i,end=\"  \")"
   ]
  },
  {
   "cell_type": "markdown",
   "metadata": {},
   "source": [
    "8.Write a Python program to print odd numbers in a list?"
   ]
  },
  {
   "cell_type": "code",
   "execution_count": 31,
   "metadata": {},
   "outputs": [
    {
     "name": "stdout",
     "output_type": "stream",
     "text": [
      "1 3 5 7 9 "
     ]
    }
   ],
   "source": [
    "l=[1,2,3,4,5,6,7,8,9,10]\n",
    "for i in l:\n",
    "    if i%2!=0:\n",
    "\n",
    "    \n",
    "        print(i,end=\" \")"
   ]
  },
  {
   "cell_type": "markdown",
   "metadata": {},
   "source": [
    "9.Write a Python program to Remove empty List from List?"
   ]
  },
  {
   "cell_type": "code",
   "execution_count": 37,
   "metadata": {},
   "outputs": [
    {
     "name": "stdout",
     "output_type": "stream",
     "text": [
      "The original list is: [2, 3, [], 45.6, []]\n",
      "After removing the empty list: [0, 1, 2, 3, 4]\n"
     ]
    }
   ],
   "source": [
    "l=[2,3,[],45.6,[]]\n",
    "print(\"The original list is:\",str(l))\n",
    "remove=[rem for rem in l if rem!=[]]\n",
    "print(\"After removing the empty list:\",remove)"
   ]
  },
  {
   "cell_type": "markdown",
   "metadata": {},
   "source": [
    "10.Write a Python program to Cloning or Copying a list?"
   ]
  },
  {
   "cell_type": "code",
   "execution_count": 41,
   "metadata": {},
   "outputs": [
    {
     "name": "stdout",
     "output_type": "stream",
     "text": [
      "list1 [1, 2, 3, [4, 5, 6]]\n",
      "list2 [1, 2, 3, [4, 5, 6]]\n"
     ]
    }
   ],
   "source": [
    "l=[1,2,3,[4,5,6]]\n",
    "\n",
    "def list1(l):\n",
    "    l1=l[:]\n",
    "    return l1\n",
    "\n",
    "l1=list1(l)\n",
    "print(\"list1\",l)\n",
    "print(\"list2\",l1)"
   ]
  },
  {
   "cell_type": "markdown",
   "metadata": {},
   "source": [
    "11.Write a Python program to Count occurrences of an element in a list?"
   ]
  },
  {
   "cell_type": "code",
   "execution_count": 57,
   "metadata": {},
   "outputs": [
    {
     "name": "stdout",
     "output_type": "stream",
     "text": [
      "The number2 has occured 5 times\n"
     ]
    }
   ],
   "source": [
    "l=[1,2,4,5,2,2,1,2,5,6,8,2,7,8,4,3,1]\n",
    "\n",
    "count=0\n",
    "for i in l:\n",
    "    x=2 \n",
    "    if(i==x):\n",
    "        count=count+1\n",
    "      \n",
    "print(f\"The number {x} has occured {count} times\")"
   ]
  },
  {
   "cell_type": "code",
   "execution_count": null,
   "metadata": {},
   "outputs": [],
   "source": []
  }
 ],
 "metadata": {
  "kernelspec": {
   "display_name": "Python 3.9.12 ('base')",
   "language": "python",
   "name": "python3"
  },
  "language_info": {
   "codemirror_mode": {
    "name": "ipython",
    "version": 3
   },
   "file_extension": ".py",
   "mimetype": "text/x-python",
   "name": "python",
   "nbconvert_exporter": "python",
   "pygments_lexer": "ipython3",
   "version": "3.9.12"
  },
  "orig_nbformat": 4,
  "vscode": {
   "interpreter": {
    "hash": "dbc5162eda2ec63598d60405787948ee5ef2997f8a68e96bf6784419c74b853a"
   }
  }
 },
 "nbformat": 4,
 "nbformat_minor": 2
}

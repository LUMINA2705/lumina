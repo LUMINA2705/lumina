{
 "cells": [
  {
   "cell_type": "markdown",
   "id": "ff0e7ce5",
   "metadata": {},
   "source": [
    "# Python programming assignment **2**\n"
   ]
  },
  {
   "cell_type": "markdown",
   "id": "40f30e1b",
   "metadata": {},
   "source": [
    "##1.Write a python program to convert kilometer to miles"
   ]
  },
  {
   "cell_type": "code",
   "execution_count": 6,
   "id": "d6df4ba7",
   "metadata": {},
   "outputs": [
    {
     "name": "stdout",
     "output_type": "stream",
     "text": [
      "Enter the speed of the car :80\n",
      "convertion of kilometer to meter is : 49.709599999999995\n"
     ]
    }
   ],
   "source": [
    "kilometer=float(input(\"Enter the speed of the car :\"))\n",
    "\n",
    "one_kilometer=0.62137\n",
    "\n",
    "miles =kilometer * one_kilometer\n",
    "print(\"convertion of kilometer to meter is :\",miles)"
   ]
  },
  {
   "cell_type": "raw",
   "id": "27e70cfe",
   "metadata": {},
   "source": [
    "##2.Write a Python program to convert Celsius to Fahrenheit?"
   ]
  },
  {
   "cell_type": "code",
   "execution_count": 7,
   "id": "ec6af557",
   "metadata": {},
   "outputs": [
    {
     "name": "stdout",
     "output_type": "stream",
     "text": [
      "30  celsius is equal to 86.0 farenheit\n"
     ]
    }
   ],
   "source": [
    "celsius=30\n",
    "\n",
    "farenheit=(celsius *1.8) + 32\n",
    "\n",
    "print(f\"{celsius}  celsius is equal to {farenheit} farenheit\")\n"
   ]
  },
  {
   "cell_type": "markdown",
   "id": "adfb90b8",
   "metadata": {},
   "source": [
    "##3.Write a Python program to display calendar?"
   ]
  },
  {
   "cell_type": "code",
   "execution_count": 8,
   "id": "b796e558",
   "metadata": {},
   "outputs": [
    {
     "name": "stdout",
     "output_type": "stream",
     "text": [
      "   September 2021\n",
      "Mo Tu We Th Fr Sa Su\n",
      "       1  2  3  4  5\n",
      " 6  7  8  9 10 11 12\n",
      "13 14 15 16 17 18 19\n",
      "20 21 22 23 24 25 26\n",
      "27 28 29 30\n",
      "\n"
     ]
    }
   ],
   "source": [
    "import calendar\n",
    "\n",
    "yy=2021\n",
    "mm= 9\n",
    "\n",
    "print(calendar.month(yy, mm))"
   ]
  },
  {
   "cell_type": "markdown",
   "id": "16093777",
   "metadata": {},
   "source": [
    "##4.Write a Python program to solve quadratic equation?"
   ]
  },
  {
   "cell_type": "code",
   "execution_count": 9,
   "id": "86600824",
   "metadata": {},
   "outputs": [
    {
     "name": "stdout",
     "output_type": "stream",
     "text": [
      "Quadratic values are:(-2-2j),(-2+2j)\n"
     ]
    }
   ],
   "source": [
    "import cmath\n",
    "\n",
    "a=1\n",
    "b=4\n",
    "c=8\n",
    "\n",
    "d=(b**2)-(4*a*c)\n",
    "\n",
    "solution1=(-b-cmath.sqrt(d))/(2*a)\n",
    "solution2=(-b+cmath.sqrt(d))/(2*a)\n",
    "\n",
    "print(f\"Quadratic values are:{solution1},{solution2}\")"
   ]
  },
  {
   "cell_type": "markdown",
   "id": "c9221a20",
   "metadata": {},
   "source": [
    "##5.Write a Python program to swap two variables without temp variable"
   ]
  },
  {
   "cell_type": "code",
   "execution_count": 10,
   "id": "c52b8614",
   "metadata": {},
   "outputs": [
    {
     "name": "stdout",
     "output_type": "stream",
     "text": [
      "after swapping of x: 7 after swapping of y: 5\n"
     ]
    }
   ],
   "source": [
    "\n",
    "x=5\n",
    "y=7\n",
    "\n",
    "x,y=y,x\n",
    "print(\"after swapping of x:\" ,x,\"after swapping of y:\",y)"
   ]
  },
  {
   "cell_type": "code",
   "execution_count": null,
   "id": "4adacc16",
   "metadata": {},
   "outputs": [],
   "source": []
  }
 ],
 "metadata": {
  "kernelspec": {
   "display_name": "Python 3 (ipykernel)",
   "language": "python",
   "name": "python3"
  },
  "language_info": {
   "codemirror_mode": {
    "name": "ipython",
    "version": 3
   },
   "file_extension": ".py",
   "mimetype": "text/x-python",
   "name": "python",
   "nbconvert_exporter": "python",
   "pygments_lexer": "ipython3",
   "version": "3.9.12"
  }
 },
 "nbformat": 4,
 "nbformat_minor": 5
}

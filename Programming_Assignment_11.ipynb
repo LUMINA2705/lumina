{
 "cells": [
  {
   "cell_type": "markdown",
   "metadata": {},
   "source": [
    "1.Write a Python program to find words which are greater than given length k?"
   ]
  },
  {
   "cell_type": "code",
   "execution_count": 3,
   "metadata": {},
   "outputs": [
    {
     "name": "stdout",
     "output_type": "stream",
     "text": [
      "['Jashiv']\n"
     ]
    }
   ],
   "source": [
    "def string_k(k, str):\n",
    "     \n",
    "    \n",
    "    string = []\n",
    "    text = str.split(\" \")\n",
    "    for x in text:\n",
    "          if len(x) > k:\n",
    "             string.append(x)\n",
    "             \n",
    "     \n",
    "    return string\n",
    " \n",
    " \n",
    "# Driver Program    \n",
    "k = 5\n",
    "str =\"Jashiv\"\n",
    "print(string_k(k, str))\n"
   ]
  },
  {
   "cell_type": "markdown",
   "metadata": {},
   "source": [
    "2.Write a Python program for removing i-th character from a string?"
   ]
  },
  {
   "cell_type": "code",
   "execution_count": 4,
   "metadata": {},
   "outputs": [
    {
     "name": "stdout",
     "output_type": "stream",
     "text": [
      "The string after removal of i'th character : He_World\n"
     ]
    }
   ],
   "source": [
    "test_str = \"Hey_World\"\n",
    " \n",
    "# Removing char at pos 3\n",
    "new_str = \"\"\n",
    " \n",
    "for i in range(len(test_str)):\n",
    "    if i != 2:\n",
    "        new_str = new_str + test_str[i]\n",
    " \n",
    "\n",
    "print (\"The string after removal of i'th character : \" + new_str)\n"
   ]
  },
  {
   "cell_type": "markdown",
   "metadata": {},
   "source": [
    "3.Write a Python program to split and join a string?"
   ]
  },
  {
   "cell_type": "code",
   "execution_count": 6,
   "metadata": {},
   "outputs": [
    {
     "name": "stdout",
     "output_type": "stream",
     "text": [
      "['Hello', 'World']\n",
      "Hello-World\n"
     ]
    }
   ],
   "source": [
    "# Python program to split a string and \n",
    "# join it using different delimiter\n",
    " \n",
    "def split_string(string):\n",
    " \n",
    "    # Split the string based on space delimiter\n",
    "    list_string = string.split(' ')\n",
    "     \n",
    "    return list_string\n",
    " \n",
    "def join_string(list_string):\n",
    " \n",
    "    # Join the string based on '-' delimiter\n",
    "    string = '-'.join(list_string)\n",
    "     \n",
    "    return string\n",
    " \n",
    "# Driver Function\n",
    "if __name__ == '__main__':\n",
    "    string = 'Hello World'\n",
    "     \n",
    "    # Splitting a string\n",
    "    list_string = split_string(string)\n",
    "    print(list_string)\n",
    " \n",
    "     # Join list of strings into one\n",
    "    new_string = join_string(list_string)\n",
    "    print(new_string)\n"
   ]
  },
  {
   "cell_type": "markdown",
   "metadata": {},
   "source": [
    "4.Write a Python to check if a given string is binary string or not?"
   ]
  },
  {
   "cell_type": "code",
   "execution_count": 7,
   "metadata": {},
   "outputs": [
    {
     "name": "stdout",
     "output_type": "stream",
     "text": [
      "Yes\n"
     ]
    }
   ],
   "source": [
    "def check(string):\n",
    "    p = set(string)\n",
    " \n",
    "    \n",
    "    s = {'0', '1'}\n",
    " \n",
    "    if s == p or p == {'0'} or p == {'1'}:\n",
    "        print(\"Yes\")\n",
    "    else:\n",
    "        print(\"No\")\n",
    " \n",
    " \n",
    "# driver code\n",
    "if __name__ == \"__main__\":\n",
    " \n",
    "    string = \"101010000111\"\n",
    " \n",
    "\n",
    "    check(string)\n"
   ]
  },
  {
   "cell_type": "markdown",
   "metadata": {},
   "source": [
    "5.Write a Python program to find uncommon words from two Strings?\n",
    "\n"
   ]
  },
  {
   "cell_type": "code",
   "execution_count": 9,
   "metadata": {},
   "outputs": [
    {
     "name": "stdout",
     "output_type": "stream",
     "text": [
      "['Here', 'are', 'the', 'words']\n"
     ]
    }
   ],
   "source": [
    "\n",
    "def UncommonWords(A, B):\n",
    " \n",
    "    count = {}\n",
    "     \n",
    "    for word in A.split():\n",
    "        count[word] = count.get(word, 0) + 1\n",
    "     \n",
    "    for word in B.split():\n",
    "        count[word] = count.get(word, 0) + 1\n",
    " \n",
    "    return [word for word in count if count[word] == 1]\n",
    " \n",
    "# Driver Code\n",
    "A = \"Hello World\"\n",
    "B = \"Here are the words Hello World\"\n",
    " \n",
    "# Print required answer\n",
    "print(UncommonWords(A, B))\n"
   ]
  },
  {
   "cell_type": "markdown",
   "metadata": {},
   "source": [
    "6.Write a Python to find all duplicate characters in string?"
   ]
  },
  {
   "cell_type": "code",
   "execution_count": 13,
   "metadata": {},
   "outputs": [
    {
     "name": "stdout",
     "output_type": "stream",
     "text": [
      "m\n",
      "a\n",
      "l\n"
     ]
    }
   ],
   "source": [
    "from collections import Counter\n",
    " \n",
    " \n",
    "def find_dup_char(input):\n",
    " \n",
    "    WC = Counter(input)\n",
    " \n",
    "    for letter, count in WC.items():\n",
    "        if (count > 1):\n",
    "            print(letter)\n",
    " \n",
    " \n",
    "# Driver program\n",
    "if __name__ == \"__main__\":\n",
    "    input = 'malayalam'\n",
    "    find_dup_char(input)\n"
   ]
  },
  {
   "cell_type": "markdown",
   "metadata": {},
   "source": [
    "7.Write a Python Program to check if a string contains any special character?"
   ]
  },
  {
   "cell_type": "code",
   "execution_count": 16,
   "metadata": {},
   "outputs": [
    {
     "name": "stdout",
     "output_type": "stream",
     "text": [
      "['True', 'False', 'True', 'False']\n"
     ]
    }
   ],
   "source": [
    "\n",
    "def check(s, arr):\n",
    "    result = []\n",
    "    for i in arr:\n",
    "       \n",
    "        \n",
    "        if i in s:\n",
    "            result.append(\"True\")\n",
    "        else:\n",
    "            result.append(\"False\")\n",
    "    return result\n",
    " \n",
    " \n",
    "# Driver Code\n",
    "s = \"@lumina123\"\n",
    "arr = ['@', 'r', '1', '7']\n",
    "print(check(s, arr))\n"
   ]
  }
 ],
 "metadata": {
  "kernelspec": {
   "display_name": "Python 3.9.12 ('base')",
   "language": "python",
   "name": "python3"
  },
  "language_info": {
   "codemirror_mode": {
    "name": "ipython",
    "version": 3
   },
   "file_extension": ".py",
   "mimetype": "text/x-python",
   "name": "python",
   "nbconvert_exporter": "python",
   "pygments_lexer": "ipython3",
   "version": "3.9.12"
  },
  "orig_nbformat": 4,
  "vscode": {
   "interpreter": {
    "hash": "dbc5162eda2ec63598d60405787948ee5ef2997f8a68e96bf6784419c74b853a"
   }
  }
 },
 "nbformat": 4,
 "nbformat_minor": 2
}

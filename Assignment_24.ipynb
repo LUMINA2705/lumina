{
 "cells": [
  {
   "cell_type": "markdown",
   "id": "cfb99a44",
   "metadata": {},
   "source": [
    "Assignment 24"
   ]
  },
  {
   "cell_type": "markdown",
   "id": "16d8801d",
   "metadata": {},
   "source": [
    "1. What is the relationship between def statements and lambda expressions ?\n"
   ]
  },
  {
   "cell_type": "markdown",
   "id": "56d53bd6",
   "metadata": {},
   "source": [
    "Ans: def statement is used to create a normal function. where as lamba expressions are used to create Anonymous functions. which can be assigned to a variable and can be called using the variable later in function.\n",
    "\n",
    "Lambda's body is a single expression and not a block of statements like def statement. The lambda expression's body is similar to what we'd put in a def body's return statement. We simply type the result as an expression instead of explicitly returning it. Because it is limited to an expression, a lambda is less general than a def statement.\n",
    "\n"
   ]
  },
  {
   "cell_type": "markdown",
   "id": "3b9da34d",
   "metadata": {},
   "source": [
    "2. What is the benefit of lambda?\n",
    "Ans: The following are some of the benefits of lambda expressions:\n",
    "\n",
    "Can be used to create Nameless/Anonymous functions inside some complex functions if we are planning to use it only once.\n",
    "Moderate to small functions can be created in a single line\n",
    "Fuctions created using lambda expressions can be assigned to a variable and can be used by simply calling the variable\n"
   ]
  },
  {
   "cell_type": "markdown",
   "id": "d3df9b80",
   "metadata": {},
   "source": [
    "3. Compare and contrast map, filter, and reduce.\n",
    "Ans: The differences between map, filter and reduce are:\n",
    "\n",
    "map(): The map() function is a type of higher-order. This function takes another function as a parameter\n",
    "along with a sequence of iterables and returns an output after applying the function to each iterable present in the sequence. 2. filter(): The filter() function is used to create an output list consisting of values for which the function returns true. 3. reduce(): The reduce() function, as the name describes, applies a given function to the iterables and returns a single value\n",
    "\n",
    "\n"
   ]
  },
  {
   "cell_type": "code",
   "execution_count": 1,
   "id": "1eb9855f",
   "metadata": {},
   "outputs": [
    {
     "name": "stdout",
     "output_type": "stream",
     "text": [
      "Map -> [2, 4, 6, 8]\n",
      "Filter -> [1, 3]\n",
      "Reduce -> 21\n"
     ]
    }
   ],
   "source": [
    "from functools import reduce\n",
    "# map function\n",
    "print('Map ->',list(map(lambda x:x+x, [1,2,3,4])))\n",
    "# fitler function\n",
    "print('Filter ->',list(filter(lambda x:x%2 !=0, [1,2,3,4])))\n",
    "# reduce function\n",
    "print('Reduce ->',reduce(lambda x,y:x+y, [1,2,3,4,5,6]))\n"
   ]
  },
  {
   "cell_type": "markdown",
   "id": "38a1227a",
   "metadata": {},
   "source": [
    "4. What are function annotations, and how are they used?\n",
    "Ans: Function annotations provide a way of associating various parts of a function with arbitrary pythoncexpressions at compile time.\n",
    "Annotations of simple parameters def func(x: expression, y: expression = 20):\n",
    "Whereas the annotations for excess parameters are as − def func (**args: expression, **kwargs: expression):\n",
    "\n"
   ]
  },
  {
   "cell_type": "markdown",
   "id": "9072f805",
   "metadata": {},
   "source": [
    "5. What are recursive functions, and how are they used?\n",
    "Ans: A recursive function is a function that calls itself during its execution. The process may repeat several times, outputting the result and the end of each iteration.\n",
    "\n"
   ]
  },
  {
   "cell_type": "markdown",
   "id": "a5be1e25",
   "metadata": {},
   "source": [
    "6. What are some general design guidelines for coding functions?\n",
    "Ans: Some of the general design guidelines for coding functions are:\n",
    "\n",
    "1.Always use a docstring to explain the functionality of the function\n",
    "2.avoid using or limited use of global variables\n",
    "3.Proper Identation to increase the code readability\n",
    "4.try to follow a naming convention for function names (pascalCase or camelCase) and stick with the same convention throughout the application.\n",
    "5.Avoid using digits while choosing a variable name\n",
    "6.try to use a name for the function which conveys the purpose of the function\n",
    "7.Local variables should be named using camelCase format (ex: localVariable) whereas Global variables names should be using PascalCase (ex:GlobalVariable).\n",
    "8.Constant should be represented in allcaps (ex:CONSTANT).\n"
   ]
  },
  {
   "cell_type": "markdown",
   "id": "10527267",
   "metadata": {},
   "source": [
    "7. Name three or more ways that functions can communicate results to a caller.\n",
    "Ans: Some of the ways in which a function can communicate with the calling function is:\n",
    "\n",
    "1.print\n",
    "2.return\n",
    "3.yield\n"
   ]
  },
  {
   "cell_type": "code",
   "execution_count": 1,
   "id": "5311230d",
   "metadata": {},
   "outputs": [
    {
     "name": "stdout",
     "output_type": "stream",
     "text": [
      "1 2 8\n"
     ]
    }
   ],
   "source": [
    "def func(a,b=6,c=8):\n",
    "    print(a,b,c)\n",
    "func(1,2)\n"
   ]
  },
  {
   "cell_type": "markdown",
   "id": "23c7cf0e",
   "metadata": {},
   "source": [
    "2. What is the result of this code, and why?\n",
    ">>> def func(a, b, c=5):\n",
    "print(a, b, c)\n",
    ">>> func(1, c=3, b=2)\n"
   ]
  },
  {
   "cell_type": "markdown",
   "id": "421977c5",
   "metadata": {},
   "source": [
    "Ans: The result of the above code is 1 2 3. it is because the function will use default values only when a value for a argument is not provided and if argument name is mentioned while doing a function call, the order of arguments is also ignored by the python interpreter\n",
    "\n"
   ]
  },
  {
   "cell_type": "code",
   "execution_count": 2,
   "id": "adde9092",
   "metadata": {},
   "outputs": [
    {
     "name": "stdout",
     "output_type": "stream",
     "text": [
      "1 2 3\n"
     ]
    }
   ],
   "source": [
    "def func(a,b,c=5):\n",
    "    print(a,b,c)\n",
    "func(1,c=3,b=2)\n"
   ]
  },
  {
   "cell_type": "markdown",
   "id": "8e57f50a",
   "metadata": {},
   "source": [
    "3. How about this code: what is its result, and why?\n",
    ">>> def func(a, *pargs):\n",
    "print(a, pargs)\n",
    ">>> func(1, 2, 3)\n"
   ]
  },
  {
   "cell_type": "markdown",
   "id": "504360db",
   "metadata": {},
   "source": [
    "Ans: The result of the code is 1 (2,3). *pargs stands for variable length arguments. this format is used when we are not sure about the no of arguments to be passed to a function. all the values under this argument will be stored in a tuple.\n",
    "\n"
   ]
  },
  {
   "cell_type": "code",
   "execution_count": 3,
   "id": "9f6682a5",
   "metadata": {},
   "outputs": [
    {
     "name": "stdout",
     "output_type": "stream",
     "text": [
      "1 (2, 3)\n"
     ]
    }
   ],
   "source": [
    "def func(a, *pargs):\n",
    "    print(a,pargs)\n",
    "func(1,2,3)\n"
   ]
  },
  {
   "cell_type": "markdown",
   "id": "4f81e1fa",
   "metadata": {},
   "source": [
    "4. What does this code print, and why?\n",
    ">>> def func(a, **kargs):\n",
    "print(a, kargs)\n",
    ">>> func(a=1, c=3, b=2)\n"
   ]
  },
  {
   "cell_type": "markdown",
   "id": "552df00a",
   "metadata": {},
   "source": [
    "Ans: The result of the above code is 1 {'c': 3, 'b': 2}. **args stands for variable length keyword arguments. this format is used when we want pass key value pairs as input to a function. All these key value pairs will be stored in a dictionary\n",
    "\n"
   ]
  },
  {
   "cell_type": "code",
   "execution_count": 4,
   "id": "2a724db0",
   "metadata": {},
   "outputs": [
    {
     "name": "stdout",
     "output_type": "stream",
     "text": [
      "1 {'c': 3, 'b': 2}\n"
     ]
    }
   ],
   "source": [
    "def func(a,**kargs):\n",
    "    print(a,kargs)\n",
    "func(a=1,c=3,b=2)\n"
   ]
  },
  {
   "cell_type": "markdown",
   "id": "d10da88a",
   "metadata": {},
   "source": [
    "5. What gets printed by this, and explain?\n",
    ">>> def func(a, b, c=8, d=5): print(a, b, c, d)\n",
    ">>> func(1, *(5, 6))\n"
   ]
  },
  {
   "cell_type": "markdown",
   "id": "293ff559",
   "metadata": {},
   "source": [
    "Ans: The output of the above is 1 5 6 5. This reason for this function not throwing an error is because, this function expects 4 arguments. the value for a is provided explicitly whereas for arguments b and c, the function will expand the *(5,6) and consider the value of b as 5 and value of c as 6. since the default value of d is provided in function declaration d value will be 5. However it is recommended to use the feature of positional arguments at the end.\n",
    "\n"
   ]
  },
  {
   "cell_type": "code",
   "execution_count": 7,
   "id": "f3ce7973",
   "metadata": {},
   "outputs": [
    {
     "name": "stdout",
     "output_type": "stream",
     "text": [
      "1 5 6 5\n"
     ]
    }
   ],
   "source": [
    "def func(a,b,c=8,d=5):\n",
    "    print(a,b,c,d)\n",
    "func(1,*(5,6))\n",
    "\n"
   ]
  },
  {
   "cell_type": "markdown",
   "id": "6e96ed34",
   "metadata": {},
   "source": [
    "6. what is the result of this, and explain?\n",
    ">>> def func(a, b, c): a = 2; b[0] = 'x'; c['a'] = 'y'\n",
    ">>> l=1; m=[1]; n={'a':0}\n",
    ">>> func(l, m, n)\n",
    ">>> l, m, n\n"
   ]
  },
  {
   "cell_type": "markdown",
   "id": "316740c3",
   "metadata": {},
   "source": [
    "Ans: The output of above code is 1, ['x'], {'a': 'y'}.\n",
    "\n",
    "Eventhough Python gives importance to indentation. its provides a facility to declare an entire function in one single line. where statements in a function body are sepereated by ;\n",
    "When l,m,n are provided as inputs to the function. its modifies the values of l,m,n and sets the value of l=2 ,m=['x'] and n={'a':'y'}\n"
   ]
  },
  {
   "cell_type": "code",
   "execution_count": 5,
   "id": "f76aa024",
   "metadata": {},
   "outputs": [],
   "source": [
    "def func(a, b, c): a = 2; b[0] = 'x'; c['a'] = 'y'\n",
    "l=1; m=[1]; n={'a':0}\n",
    "func(l, m, n)\n"
   ]
  },
  {
   "cell_type": "code",
   "execution_count": 6,
   "id": "176006a9",
   "metadata": {},
   "outputs": [
    {
     "data": {
      "text/plain": [
       "(1, ['x'], {'a': 'y'})"
      ]
     },
     "execution_count": 6,
     "metadata": {},
     "output_type": "execute_result"
    }
   ],
   "source": [
    "l,m,n"
   ]
  },
  {
   "cell_type": "code",
   "execution_count": null,
   "id": "e918d09d",
   "metadata": {},
   "outputs": [],
   "source": []
  }
 ],
 "metadata": {
  "kernelspec": {
   "display_name": "Python 3.10.8 64-bit",
   "language": "python",
   "name": "python3"
  },
  "language_info": {
   "codemirror_mode": {
    "name": "ipython",
    "version": 3
   },
   "file_extension": ".py",
   "mimetype": "text/x-python",
   "name": "python",
   "nbconvert_exporter": "python",
   "pygments_lexer": "ipython3",
   "version": "3.10.8"
  },
  "vscode": {
   "interpreter": {
    "hash": "b5824f1ae9aa61e41f7c1eee537574f86525fe07bfcd9623acf475b7129c33cc"
   }
  }
 },
 "nbformat": 4,
 "nbformat_minor": 5
}

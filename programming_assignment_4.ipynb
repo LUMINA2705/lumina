{
 "cells": [
  {
   "cell_type": "markdown",
   "metadata": {},
   "source": [
    "# Python programming assignment **4"
   ]
  },
  {
   "cell_type": "markdown",
   "metadata": {},
   "source": [
    "##1.Write a Python Program to Find the Factorial of a Number?"
   ]
  },
  {
   "cell_type": "code",
   "execution_count": null,
   "metadata": {},
   "outputs": [],
   "source": []
  },
  {
   "cell_type": "code",
   "execution_count": 6,
   "metadata": {},
   "outputs": [
    {
     "name": "stdout",
     "output_type": "stream",
     "text": [
      "faactorial of the given number is: 24\n"
     ]
    }
   ],
   "source": [
    "n = int (input(\"enter a number:\"))\n",
    "factorial1=1\n",
    "\n",
    "if n>=1:\n",
    "    for i in range (1,n+1):\n",
    "        factorial1=factorial1*i\n",
    "    print(\"faactorial of the given number is:\",factorial1)\n",
    "\n"
   ]
  },
  {
   "cell_type": "markdown",
   "metadata": {},
   "source": [
    "##2.Write a Python Program to Display the multiplication Table?"
   ]
  },
  {
   "cell_type": "code",
   "execution_count": 7,
   "metadata": {},
   "outputs": [
    {
     "name": "stdout",
     "output_type": "stream",
     "text": [
      "15 x 1 = 15\n",
      "15 x 2 = 30\n",
      "15 x 3 = 45\n",
      "15 x 4 = 60\n",
      "15 x 5 = 75\n",
      "15 x 6 = 90\n",
      "15 x 7 = 105\n",
      "15 x 8 = 120\n",
      "15 x 9 = 135\n",
      "15 x 10 = 150\n",
      "15 x 11 = 165\n",
      "15 x 12 = 180\n"
     ]
    }
   ],
   "source": [
    "table=15\n",
    "\n",
    "for i in range(1,13):\n",
    "  print(table, 'x', i ,\"=\", table*i)"
   ]
  },
  {
   "cell_type": "markdown",
   "metadata": {},
   "source": [
    "##3.Write a Python Program to Print the Fibonacci sequence?"
   ]
  },
  {
   "cell_type": "code",
   "execution_count": 8,
   "metadata": {},
   "outputs": [
    {
     "name": "stdout",
     "output_type": "stream",
     "text": [
      "The fibonacci sequence is: 0\n",
      "The fibonacci sequence is: 1\n",
      "The fibonacci sequence is: 1\n",
      "The fibonacci sequence is: 2\n",
      "The fibonacci sequence is: 3\n",
      "The fibonacci sequence is: 5\n"
     ]
    }
   ],
   "source": [
    "nterms= int(input(\"Enter the numbr of terms:\"))\n",
    "\n",
    "n1,n2=0,1\n",
    "count=0\n",
    "\n",
    "if nterms<=0:\n",
    "  print(\"Please enter a postive integer\")\n",
    "\n",
    "elif nterms==1:\n",
    "  print(\"Fibonacii number is:\",nterms)\n",
    "  print(n1)\n",
    "\n",
    "else:\n",
    "  while count < nterms:\n",
    "    print(\"The fibonacci sequence is:\",n1)\n",
    "  \n",
    "    nth=n1+n2\n",
    "    n1=n2\n",
    "    n2=nth\n",
    "\n",
    "    count+=1"
   ]
  },
  {
   "cell_type": "markdown",
   "metadata": {},
   "source": [
    "##4. Write a Python Program to Check Armstrong Number"
   ]
  },
  {
   "cell_type": "code",
   "execution_count": 14,
   "metadata": {},
   "outputs": [
    {
     "name": "stdout",
     "output_type": "stream",
     "text": [
      "407 Its a Armstrong number\n"
     ]
    }
   ],
   "source": [
    "num = int(input(\"Enter a number:\" ))\n",
    "sum = 0\n",
    "\n",
    "temp = num\n",
    "while temp > 0:\n",
    "    digit = temp %  10\n",
    "    sum += digit ** 3\n",
    "    temp //= 10\n",
    "    \n",
    "    \n",
    "if num ==sum:\n",
    "    print(num,\"Its a Armstrong number\")\n",
    "else:\n",
    "    print(num,\"Its not an Armstrong number\")"
   ]
  },
  {
   "cell_type": "markdown",
   "metadata": {},
   "source": [
    "##5. Write a python program to find an armstrong number in an interval"
   ]
  },
  {
   "cell_type": "code",
   "execution_count": 19,
   "metadata": {},
   "outputs": [
    {
     "name": "stdout",
     "output_type": "stream",
     "text": [
      "1\n",
      "2\n",
      "3\n",
      "4\n",
      "5\n",
      "6\n",
      "7\n",
      "8\n",
      "9\n",
      "153\n",
      "370\n",
      "371\n",
      "407\n"
     ]
    }
   ],
   "source": [
    "lower = 1\n",
    "upper = 1000\n",
    "for num in range(lower,upper+1):\n",
    "\n",
    "    sum =0\n",
    "    order = len(str(num))\n",
    "    temp=num\n",
    "\n",
    "\n",
    "    while temp>0:\n",
    "\n",
    "        digit = temp % 10\n",
    "        sum+= digit** order\n",
    "        temp //=10\n",
    "\n",
    "    if num == sum:\n",
    "        print(num)"
   ]
  },
  {
   "cell_type": "markdown",
   "metadata": {},
   "source": [
    "##6. Write a python program to find the sum of natural numbers"
   ]
  },
  {
   "cell_type": "code",
   "execution_count": 22,
   "metadata": {},
   "outputs": [
    {
     "name": "stdout",
     "output_type": "stream",
     "text": [
      "Sum of 0 natural number is: 136\n"
     ]
    }
   ],
   "source": [
    "n = 16\n",
    "\n",
    "if n <  0:\n",
    "    print(\"Enter a positive number\")\n",
    "\n",
    "else:\n",
    "    sum = 0\n",
    "    while n >0:\n",
    "        sum = sum+ n\n",
    "        n= n-1\n",
    "\n",
    "    print(f\"Sum of {n} natural number is:\",sum)\n",
    "    "
   ]
  }
 ],
 "metadata": {
  "kernelspec": {
   "display_name": "Python 3.10.8 64-bit",
   "language": "python",
   "name": "python3"
  },
  "language_info": {
   "codemirror_mode": {
    "name": "ipython",
    "version": 3
   },
   "file_extension": ".py",
   "mimetype": "text/x-python",
   "name": "python",
   "nbconvert_exporter": "python",
   "pygments_lexer": "ipython3",
   "version": "3.10.8"
  },
  "orig_nbformat": 4,
  "vscode": {
   "interpreter": {
    "hash": "b5824f1ae9aa61e41f7c1eee537574f86525fe07bfcd9623acf475b7129c33cc"
   }
  }
 },
 "nbformat": 4,
 "nbformat_minor": 2
}

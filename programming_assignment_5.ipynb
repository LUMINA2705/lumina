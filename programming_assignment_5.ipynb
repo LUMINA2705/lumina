{
 "cells": [
  {
   "cell_type": "markdown",
   "metadata": {},
   "source": [
    "##Programmming Assignment **5**"
   ]
  },
  {
   "cell_type": "markdown",
   "metadata": {},
   "source": [
    "#1. Write a python program to find the LCM"
   ]
  },
  {
   "cell_type": "code",
   "execution_count": 3,
   "metadata": {},
   "outputs": [
    {
     "name": "stdout",
     "output_type": "stream",
     "text": [
      "LCM  of two given numbr is  6\n"
     ]
    }
   ],
   "source": [
    "def lcm(a,b):\n",
    "\n",
    "    if a> b:\n",
    "        greater = a\n",
    "    else:\n",
    "        greater = b\n",
    "    \n",
    "        while (True):\n",
    "            if ((greater %a==0)and (greater%b==0)):\n",
    "                lcm=greater\n",
    "                break\n",
    "            greater+=1\n",
    "\n",
    "        return lcm\n",
    "\n",
    "num1=2\n",
    "num2=3\n",
    "\n",
    "print(\"LCM  of two given numbr is \",lcm(num1,num2))\n"
   ]
  },
  {
   "cell_type": "markdown",
   "metadata": {},
   "source": [
    "#2. Write a python program to find the HCF"
   ]
  },
  {
   "cell_type": "code",
   "execution_count": 8,
   "metadata": {},
   "outputs": [
    {
     "name": "stdout",
     "output_type": "stream",
     "text": [
      "HCF of the given number is:  1\n"
     ]
    }
   ],
   "source": [
    "def hcf(a,b):\n",
    "\n",
    "    if a>b:\n",
    "        smaller=b\n",
    "    else:\n",
    "        smaller=a\n",
    "\n",
    "    for i in range(1,smaller+1):\n",
    "        if ((b%i==0)and (a %i==0)):\n",
    "            hcf=i\n",
    "            \n",
    "        smaller+=i\n",
    "\n",
    "    return hcf\n",
    "\n",
    "num1=2\n",
    "num2=3\n",
    "\n",
    "print(\"HCF of the given number is: \",hcf(num1,num2))"
   ]
  },
  {
   "cell_type": "markdown",
   "metadata": {},
   "source": [
    "#3. Write a python program toconvert decimal to binary, octal and hexadeciaml"
   ]
  },
  {
   "cell_type": "code",
   "execution_count": 9,
   "metadata": {},
   "outputs": [
    {
     "name": "stdout",
     "output_type": "stream",
     "text": [
      "Convertion of the num 45 is:\n",
      "0b101101 in binary \n",
      "0o55 in octal\n",
      "0x2d in hexagonal \n"
     ]
    }
   ],
   "source": [
    "num=45\n",
    "\n",
    "print(\"Convertion of the num\",num,\"is:\")\n",
    "print(bin(num),\"in binary \")\n",
    "print(oct(num),\"in octal\")\n",
    "print(hex(num),\"in hexagonal \")"
   ]
  },
  {
   "cell_type": "markdown",
   "metadata": {},
   "source": [
    "#4. Write a python program to find the ASCII value of the character"
   ]
  },
  {
   "cell_type": "code",
   "execution_count": 11,
   "metadata": {},
   "outputs": [
    {
     "name": "stdout",
     "output_type": "stream",
     "text": [
      "The ASCII value of 'k' is 107\n"
     ]
    }
   ],
   "source": [
    "\n",
    "c = 'k'\n",
    "print(\"The ASCII value of '\" + c + \"' is\", ord(c))"
   ]
  },
  {
   "cell_type": "markdown",
   "metadata": {},
   "source": [
    "#5. Write a python program to make a simple calculator with 4 basic mathematical operation"
   ]
  },
  {
   "cell_type": "code",
   "execution_count": 26,
   "metadata": {},
   "outputs": [
    {
     "name": "stdout",
     "output_type": "stream",
     "text": [
      "Select the option :\n",
      "1.add\n",
      "2.sub\n",
      "3.mul\n",
      "4.div\n",
      "2.0 +  3.0 = 5.0\n"
     ]
    }
   ],
   "source": [
    "def add(a,b):\n",
    "    return a+b\n",
    "\n",
    "def sub(a,b):\n",
    "    return a-b\n",
    "\n",
    "\n",
    "def mul(a,b):\n",
    "    return a*b\n",
    "\n",
    "def div(a,b):\n",
    "    return a/b\n",
    "\n",
    "\n",
    "print(\"Select the option :\")\n",
    "print(\"1.add\")\n",
    "print(\"2.sub\")\n",
    "print(\"3.mul\")\n",
    "print(\"4.div\")\n",
    "\n",
    "while True:\n",
    "    choice = input(\"Enter choice (1/2/3/4):\")\n",
    "\n",
    "    if choice in ('1','2','3','4'):\n",
    "        num1= float(input(\"Enter a first number\"))\n",
    "        num2 = float(input(\"Ener a Second number\"))\n",
    "\n",
    "        if choice=='1':\n",
    "            print(num1, \"+ \",num2, \"=\",add(num1,num2))\n",
    "\n",
    "        \n",
    "        elif choice=='2':\n",
    "            print(num1, \"- \",num2, \"=\",sub(num1,num2))\n",
    "\n",
    "\n",
    "        \n",
    "        elif choice=='3':\n",
    "            print(num1, \"* \",num2, \"=\",mul(num1,num2))\n",
    "\n",
    "\n",
    "        \n",
    "        elif choice=='4':\n",
    "            print(num1, \"/ \",num2, \"=\",div(num1,num2))\n",
    "\n",
    "\n",
    "        next_calculation=input(\"Lets do next calculation:(yes/no)\")\n",
    "\n",
    "        if next_calculation ==\"no\":\n",
    "            break\n",
    "else:\n",
    "    print(\"Invalid output\")\n"
   ]
  }
 ],
 "metadata": {
  "kernelspec": {
   "display_name": "Python 3.10.8 64-bit",
   "language": "python",
   "name": "python3"
  },
  "language_info": {
   "codemirror_mode": {
    "name": "ipython",
    "version": 3
   },
   "file_extension": ".py",
   "mimetype": "text/x-python",
   "name": "python",
   "nbconvert_exporter": "python",
   "pygments_lexer": "ipython3",
   "version": "3.10.8"
  },
  "orig_nbformat": 4,
  "vscode": {
   "interpreter": {
    "hash": "b5824f1ae9aa61e41f7c1eee537574f86525fe07bfcd9623acf475b7129c33cc"
   }
  }
 },
 "nbformat": 4,
 "nbformat_minor": 2
}
